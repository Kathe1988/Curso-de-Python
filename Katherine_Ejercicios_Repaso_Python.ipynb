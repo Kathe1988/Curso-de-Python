{
  "nbformat": 4,
  "nbformat_minor": 0,
  "metadata": {
    "colab": {
      "provenance": [],
      "include_colab_link": true
    },
    "kernelspec": {
      "name": "python3",
      "display_name": "Python 3"
    },
    "language_info": {
      "name": "python"
    }
  },
  "cells": [
    {
      "cell_type": "markdown",
      "metadata": {
        "id": "view-in-github",
        "colab_type": "text"
      },
      "source": [
        "<a href=\"https://colab.research.google.com/github/Kathe1988/Curso-de-Python/blob/main/Katherine_Ejercicios_Repaso_Python.ipynb\" target=\"_parent\"><img src=\"https://colab.research.google.com/assets/colab-badge.svg\" alt=\"Open In Colab\"/></a>"
      ]
    },
    {
      "cell_type": "markdown",
      "source": [
        "# Ejercicios Python"
      ],
      "metadata": {
        "id": "NQeVzr-Ynwyv"
      }
    },
    {
      "cell_type": "markdown",
      "source": [
        "## Ejercicio 1"
      ],
      "metadata": {
        "id": "w01ELBSZn07F"
      }
    },
    {
      "cell_type": "markdown",
      "source": [
        "Contar cuántos valores hay en una lista de enteros. Contar solo hasta el número 0."
      ],
      "metadata": {
        "id": "U7-2M7gEn371"
      }
    },
    {
      "cell_type": "code",
      "execution_count": 34,
      "metadata": {
        "id": "5RrjJK_annn6",
        "colab": {
          "base_uri": "https://localhost:8080/"
        },
        "outputId": "a0495994-2f18-49c9-af4c-f3a3d7a4dc17"
      },
      "outputs": [
        {
          "output_type": "stream",
          "name": "stdout",
          "text": [
            "5\n"
          ]
        }
      ],
      "source": [
        "nums = [6,8,5,2,0,6,5]\n",
        "contador = 0\n",
        "#Respuesta:\n",
        "#Debe dar 5\n",
        "for numero in nums:\n",
        " contador = contador + 1\n",
        " if numero == 0:\n",
        "  break\n",
        "print (contador)\n"
      ]
    },
    {
      "cell_type": "markdown",
      "source": [
        "## Ejercicio 2"
      ],
      "metadata": {
        "id": "Y-8ydW3wqsjJ"
      }
    },
    {
      "cell_type": "markdown",
      "source": [
        "Sumar los valores que hay en una lista de enteros. Sumar solo hasta el número 0."
      ],
      "metadata": {
        "id": "PwrM0MZ5q-a-"
      }
    },
    {
      "cell_type": "code",
      "source": [
        "nums = [6,8,5,2,0,6,5]\n",
        "suma = 0\n",
        "#Respuesta:\n",
        "#Debe dar 21\n",
        "for numero in nums:\n",
        "  suma = suma + numero\n",
        "  if numero == 0:\n",
        "    break\n",
        "print(suma)\n"
      ],
      "metadata": {
        "colab": {
          "base_uri": "https://localhost:8080/"
        },
        "id": "CSMOFqOHq9tH",
        "outputId": "214a1f2e-31f1-4fb4-a03c-cea7dd2b2983"
      },
      "execution_count": 14,
      "outputs": [
        {
          "output_type": "stream",
          "name": "stdout",
          "text": [
            "21\n"
          ]
        }
      ]
    },
    {
      "cell_type": "code",
      "source": [
        "nums = [6,8,5]  ## asi seria pero por eso se hace el bucle con for para que sea mas facil\n",
        "suma = 0\n",
        "suma = suma + nums[0]\n",
        "suma= suma + nums[1]\n",
        "suma= suma + nums[2]\n",
        "print(suma)"
      ],
      "metadata": {
        "colab": {
          "base_uri": "https://localhost:8080/"
        },
        "id": "eZSPD6Gn8phX",
        "outputId": "d0a7cc9c-8414-46e0-e5e0-5f70e6810eef"
      },
      "execution_count": 16,
      "outputs": [
        {
          "output_type": "stream",
          "name": "stdout",
          "text": [
            "19\n"
          ]
        }
      ]
    },
    {
      "cell_type": "markdown",
      "source": [
        "## Ejercicio 3"
      ],
      "metadata": {
        "id": "G9vesbhJrmiJ"
      }
    },
    {
      "cell_type": "markdown",
      "source": [
        "Calcular el valor medio de los valores que hay en una lista de enteros. Calcular solo hasta el número 0."
      ],
      "metadata": {
        "id": "aeDrH-RKrmiU"
      }
    },
    {
      "cell_type": "code",
      "source": [
        "nums = [6,8,5,2,0,6,5]\n",
        "suma = 0\n",
        "contador = 0\n",
        "#Respuesta:\n",
        "#Debe dar 4.2\n",
        "for numero in nums:\n",
        "  contador= contador + 1\n",
        "  suma = suma + numero\n",
        "  if numero ==0:\n",
        "    break\n",
        "media = suma / contador\n",
        "print (media)"
      ],
      "metadata": {
        "colab": {
          "base_uri": "https://localhost:8080/"
        },
        "id": "wNXaojvbr60X",
        "outputId": "85917ec5-bd6e-41d1-be53-7d9e320ef814"
      },
      "execution_count": 27,
      "outputs": [
        {
          "output_type": "stream",
          "name": "stdout",
          "text": [
            "4.2\n"
          ]
        }
      ]
    },
    {
      "cell_type": "markdown",
      "source": [
        "## Ejercicio 4"
      ],
      "metadata": {
        "id": "Ih5L_91Ntx_n"
      }
    },
    {
      "cell_type": "markdown",
      "source": [
        "Elimina las \"a\" del siguiente texto:"
      ],
      "metadata": {
        "id": "yUtastJVtx_o"
      }
    },
    {
      "cell_type": "code",
      "source": [
        "texto = \"Las variables son almacenes de datos que persisten en memoria. Cuando accedemos a una variable en realidad estamos accediendo a un puntero en memoria que almacena el valor que nos interesa. \"\n",
        "#Respuesta\n",
        "texto_si_a = texto.replace (\"a\",\"\")\n",
        "print (texto_si_a)\n"
      ],
      "metadata": {
        "id": "ju3tY5J6tHiW",
        "colab": {
          "base_uri": "https://localhost:8080/"
        },
        "outputId": "0723116c-6a75-43ac-f2ae-339471781eb1"
      },
      "execution_count": 37,
      "outputs": [
        {
          "output_type": "stream",
          "name": "stdout",
          "text": [
            "Ls vribles son lmcenes de dtos que persisten en memori. Cundo ccedemos  un vrible en relidd estmos ccediendo  un puntero en memori que lmcen el vlor que nos interes. \n"
          ]
        }
      ]
    },
    {
      "cell_type": "code",
      "source": [
        "texto = \"Las variables son almacenes de datos que persisten en memoria. Cuando accedemos a una variable en realidad estamos accediendo a un puntero en memoria que almacena el valor que nos interesa. \"\n",
        "resultado = \"\"\n",
        "for letra in texto:\n",
        "  if letra != \"a\":\n",
        "    resultado = resultado + letra\n",
        "print (resultado)\n",
        "\n"
      ],
      "metadata": {
        "colab": {
          "base_uri": "https://localhost:8080/"
        },
        "id": "o_u8b1rVYDaU",
        "outputId": "81359b5a-d736-47df-b57b-116d5c668984"
      },
      "execution_count": 39,
      "outputs": [
        {
          "output_type": "stream",
          "name": "stdout",
          "text": [
            "Ls vribles son lmcenes de dtos que persisten en memori. Cundo ccedemos  un vrible en relidd estmos ccediendo  un puntero en memori que lmcen el vlor que nos interes. \n"
          ]
        }
      ]
    },
    {
      "cell_type": "markdown",
      "source": [
        "## Ejercicio 5 (Opcional)"
      ],
      "metadata": {
        "id": "qh409wYK3mOm"
      }
    },
    {
      "cell_type": "markdown",
      "source": [
        "Crear una lista a partir de una secuencia de valores de entrada terminada en *.\n",
        "Una vez creada, modificarla elevando al cuadrado todos los pares y al cubo todos los impares, y mostrarla."
      ],
      "metadata": {
        "id": "QvSFihRU3mOo"
      }
    },
    {
      "cell_type": "code",
      "source": [
        "variable = 80\n",
        "variable %2 ==0\n",
        "\n"
      ],
      "metadata": {
        "colab": {
          "base_uri": "https://localhost:8080/"
        },
        "id": "cFnGgWufdrr_",
        "outputId": "50b24764-e4e3-4979-91e8-2ff4e4f0d450"
      },
      "execution_count": 50,
      "outputs": [
        {
          "output_type": "execute_result",
          "data": {
            "text/plain": [
              "1"
            ]
          },
          "metadata": {},
          "execution_count": 50
        }
      ]
    },
    {
      "cell_type": "code",
      "source": [
        "lista = [3,56,6,7,\"*\",2,78]\n",
        "new_lista= []\n",
        "#Respuesta:\n",
        "#Debe dar [27, 3136, 36, 343]\n",
        "for elemento in lista:\n",
        "  if elemento ==\"*\":\n",
        "    break\n",
        "  if elemento %2 == 0:\n",
        "     elemento = elemento **2\n",
        "  if elemento %2 !=0:\n",
        "     elemento = elemento **3\n",
        "  new_lista.append(elemento)\n",
        "print(new_lista)\n",
        "\n"
      ],
      "metadata": {
        "colab": {
          "base_uri": "https://localhost:8080/"
        },
        "id": "BdMEMdyT3wEo",
        "outputId": "2edb2c4d-471e-44e1-a14a-0ce1dd46c255"
      },
      "execution_count": 51,
      "outputs": [
        {
          "output_type": "stream",
          "name": "stdout",
          "text": [
            "[27, 3136, 36, 343]\n"
          ]
        }
      ]
    },
    {
      "cell_type": "code",
      "source": [],
      "metadata": {
        "id": "nd2QfGOTdqKp"
      },
      "execution_count": null,
      "outputs": []
    }
  ]
}